{
 "cells": [
  {
   "cell_type": "code",
   "execution_count": null,
   "metadata": {
    "ExecuteTime": {
     "end_time": "2020-04-28T02:24:19.222660Z",
     "start_time": "2020-04-28T02:24:19.209679Z"
    }
   },
   "outputs": [],
   "source": [
    "import pandas as pd\n",
    "df = pd.DataFrame({\n",
    "    'Avila Adobe': [11, 22, 33, 44, 55], \n",
    "    'Firehouse Museum': [13, 32, 23, 66, 54],\n",
    "    'Chinese American Museum': [6, 15, 30, 40, 89],\n",
    "    'America Tropical Interpretive Center': [40, 60, 80, 35, 17]\n",
    "})\n",
    "dates = pd.date_range('20190101', periods = 5)\n",
    "df = df.set_index(dates)"
   ]
  },
  {
   "cell_type": "code",
   "execution_count": null,
   "metadata": {
    "ExecuteTime": {
     "end_time": "2020-04-28T03:06:31.482266Z",
     "start_time": "2020-04-28T03:06:31.474840Z"
    }
   },
   "outputs": [],
   "source": [
    "df"
   ]
  },
  {
   "cell_type": "code",
   "execution_count": null,
   "metadata": {
    "ExecuteTime": {
     "end_time": "2020-04-28T03:11:41.081199Z",
     "start_time": "2020-04-28T03:11:41.067138Z"
    }
   },
   "outputs": [],
   "source": [
    "new_df = df.unstack().reset_index()\n",
    "new_df\n",
    "new_df.columns = ['Category', 'Date', 'Value']\n",
    "new_df\n",
    "new_df = new_df[['Date', 'Value', 'Category']]\n",
    "new_df"
   ]
  },
  {
   "cell_type": "code",
   "execution_count": null,
   "metadata": {
    "ExecuteTime": {
     "end_time": "2020-04-28T02:26:28.682973Z",
     "start_time": "2020-04-28T02:26:28.392823Z"
    }
   },
   "outputs": [],
   "source": [
    "import seaborn as sns\n",
    "sns.lineplot(data=new_df, x='Date', y='Value', hue='Category')"
   ]
  },
  {
   "cell_type": "code",
   "execution_count": null,
   "metadata": {},
   "outputs": [],
   "source": []
  }
 ],
 "metadata": {
  "hide_input": false,
  "kernelspec": {
   "display_name": "Python 3",
   "language": "python",
   "name": "python3"
  },
  "language_info": {
   "codemirror_mode": {
    "name": "ipython",
    "version": 3
   },
   "file_extension": ".py",
   "mimetype": "text/x-python",
   "name": "python",
   "nbconvert_exporter": "python",
   "pygments_lexer": "ipython3",
   "version": "3.7.6"
  },
  "toc": {
   "base_numbering": 1,
   "nav_menu": {},
   "number_sections": true,
   "sideBar": true,
   "skip_h1_title": false,
   "title_cell": "Table of Contents",
   "title_sidebar": "Contents",
   "toc_cell": false,
   "toc_position": {},
   "toc_section_display": true,
   "toc_window_display": false
  },
  "varInspector": {
   "cols": {
    "lenName": 16,
    "lenType": 16,
    "lenVar": 40
   },
   "kernels_config": {
    "python": {
     "delete_cmd_postfix": "",
     "delete_cmd_prefix": "del ",
     "library": "var_list.py",
     "varRefreshCmd": "print(var_dic_list())"
    },
    "r": {
     "delete_cmd_postfix": ") ",
     "delete_cmd_prefix": "rm(",
     "library": "var_list.r",
     "varRefreshCmd": "cat(var_dic_list()) "
    }
   },
   "types_to_exclude": [
    "module",
    "function",
    "builtin_function_or_method",
    "instance",
    "_Feature"
   ],
   "window_display": false
  }
 },
 "nbformat": 4,
 "nbformat_minor": 4
}

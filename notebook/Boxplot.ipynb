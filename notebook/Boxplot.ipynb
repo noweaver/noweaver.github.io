{
 "cells": [
  {
   "cell_type": "code",
   "execution_count": null,
   "metadata": {
    "ExecuteTime": {
     "end_time": "2020-05-09T05:42:35.218826Z",
     "start_time": "2020-05-09T05:42:35.215909Z"
    }
   },
   "outputs": [],
   "source": [
    "import numpy as np\n",
    "import pandas as pd\n",
    "import matplotlib.pyplot as plt\n",
    "\n",
    "from scipy import stats"
   ]
  },
  {
   "cell_type": "code",
   "execution_count": null,
   "metadata": {
    "ExecuteTime": {
     "end_time": "2020-05-09T05:42:39.569680Z",
     "start_time": "2020-05-09T05:42:39.556878Z"
    }
   },
   "outputs": [],
   "source": [
    "# 일정하게 0부터 100까지 총 101개 숫자를 만든다\n",
    "xs = np.array(np.linspace(start=0, stop=100, num=101))\n",
    "# xs = np.array([3,30,35,40,45,48,49,50,51,52,53,55,60,65,90,95])\n",
    "df = pd.DataFrame(xs, columns=['feature1'])\n",
    "df"
   ]
  },
  {
   "cell_type": "code",
   "execution_count": null,
   "metadata": {
    "ExecuteTime": {
     "end_time": "2020-05-09T05:42:45.434926Z",
     "start_time": "2020-05-09T05:42:45.429548Z"
    }
   },
   "outputs": [],
   "source": [
    "zscore_threshold = 1.8 # zscore outliers 임계값\n",
    "# outliers를 출력한다\n",
    "df[(np.abs(stats.zscore(df)) > zscore_threshold).all(axis=1)].values.ravel()"
   ]
  },
  {
   "cell_type": "code",
   "execution_count": null,
   "metadata": {
    "ExecuteTime": {
     "end_time": "2020-05-09T05:42:54.612856Z",
     "start_time": "2020-05-09T05:42:54.441053Z"
    }
   },
   "outputs": [],
   "source": [
    "# outliers제외하고 최소값, 백분위25, 백분위50, 백분위75, 최대값을 출력한다\n",
    "np.percentile(df[(np.abs(stats.zscore(df)) < zscore_threshold).all(axis=1)].values.ravel(),\\\n",
    "              [0, 25, 50, 75, 100], interpolation='nearest')\n",
    "plt.figure(figsize=(7, 6)) # 크기 지정\n",
    "boxplot = df.boxplot(column=['feature1'])\n",
    "plt.yticks(np.arange(0, 101, step=5))\n",
    "plt.show()"
   ]
  },
  {
   "cell_type": "code",
   "execution_count": null,
   "metadata": {},
   "outputs": [],
   "source": []
  }
 ],
 "metadata": {
  "hide_input": false,
  "kernelspec": {
   "display_name": "Python 3",
   "language": "python",
   "name": "python3"
  },
  "language_info": {
   "codemirror_mode": {
    "name": "ipython",
    "version": 3
   },
   "file_extension": ".py",
   "mimetype": "text/x-python",
   "name": "python",
   "nbconvert_exporter": "python",
   "pygments_lexer": "ipython3",
   "version": "3.7.6"
  },
  "toc": {
   "base_numbering": 1,
   "nav_menu": {},
   "number_sections": true,
   "sideBar": true,
   "skip_h1_title": false,
   "title_cell": "Table of Contents",
   "title_sidebar": "Contents",
   "toc_cell": false,
   "toc_position": {},
   "toc_section_display": true,
   "toc_window_display": false
  },
  "varInspector": {
   "cols": {
    "lenName": 16,
    "lenType": 16,
    "lenVar": 40
   },
   "kernels_config": {
    "python": {
     "delete_cmd_postfix": "",
     "delete_cmd_prefix": "del ",
     "library": "var_list.py",
     "varRefreshCmd": "print(var_dic_list())"
    },
    "r": {
     "delete_cmd_postfix": ") ",
     "delete_cmd_prefix": "rm(",
     "library": "var_list.r",
     "varRefreshCmd": "cat(var_dic_list()) "
    }
   },
   "types_to_exclude": [
    "module",
    "function",
    "builtin_function_or_method",
    "instance",
    "_Feature"
   ],
   "window_display": false
  }
 },
 "nbformat": 4,
 "nbformat_minor": 4
}
